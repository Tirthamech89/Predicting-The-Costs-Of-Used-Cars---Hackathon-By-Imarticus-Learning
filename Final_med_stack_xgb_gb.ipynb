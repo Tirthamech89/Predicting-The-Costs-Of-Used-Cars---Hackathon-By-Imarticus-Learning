{
 "cells": [
  {
   "cell_type": "code",
   "execution_count": 1,
   "metadata": {
    "collapsed": true
   },
   "outputs": [],
   "source": [
    "import pandas as pd\n",
    "import numpy as np"
   ]
  },
  {
   "cell_type": "code",
   "execution_count": 2,
   "metadata": {
    "collapsed": true
   },
   "outputs": [],
   "source": [
    "gb_test = pd.read_excel('gb_impute_v3_median.xlsx')#0.9465 (900/1000)\n",
    "xgb_test = pd.read_excel('xgb_impute_v3_median.xlsx')#0.9440"
   ]
  },
  {
   "cell_type": "code",
   "execution_count": 3,
   "metadata": {
    "collapsed": true
   },
   "outputs": [],
   "source": [
    "all_data_test=pd.concat([gb_test,xgb_test], axis=1)\n",
    "\n",
    "all_data_test.columns=['gb_Price','xgb_Price']\n",
    "\n",
    "all_data_test['Price']=0.65*all_data_test['gb_Price']+0.35*all_data_test['xgb_Price']\n",
    "s=all_data_test[['Price']]\n",
    "\n",
    "s.to_excel('submission_wgt_med.xlsx', index=False)"
   ]
  },
  {
   "cell_type": "code",
   "execution_count": 4,
   "metadata": {
    "collapsed": true
   },
   "outputs": [],
   "source": [
    "#adjust:\n",
    "adjust = pd.read_excel('C:/Users/Desktop/ML_Hack/Participants_Data_Used_Cars/adjust.xlsx')\n",
    "all_data_test1=pd.concat([all_data_test,adjust], axis=1)\n",
    "\n",
    "all_data_test1['Adj_price']=all_data_test1['Adj_price'].fillna(0)\n",
    "all_data_test1['Price1']=np.where(all_data_test1['Adj_price']==0,all_data_test1['Price'],all_data_test1['Adj_price'])\n",
    "\n",
    "sub=all_data_test1[['Price1']]\n",
    "sub.columns=['Price']\n",
    "\n",
    "sub.to_excel('submission_wgt_adj_med.xlsx', index=False)"
   ]
  },
  {
   "cell_type": "code",
   "execution_count": null,
   "metadata": {
    "collapsed": true
   },
   "outputs": [],
   "source": []
  }
 ],
 "metadata": {
  "kernelspec": {
   "display_name": "Python 3",
   "language": "python",
   "name": "python3"
  },
  "language_info": {
   "codemirror_mode": {
    "name": "ipython",
    "version": 3
   },
   "file_extension": ".py",
   "mimetype": "text/x-python",
   "name": "python",
   "nbconvert_exporter": "python",
   "pygments_lexer": "ipython3",
   "version": "3.6.1"
  }
 },
 "nbformat": 4,
 "nbformat_minor": 2
}
